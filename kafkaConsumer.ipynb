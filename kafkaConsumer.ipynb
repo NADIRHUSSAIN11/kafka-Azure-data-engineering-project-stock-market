{
 "cells": [
  {
   "cell_type": "markdown",
   "id": "1600d9d0-5043-47ef-90e5-ce47de159512",
   "metadata": {},
   "source": [
    "## IMPORTING LIBRARIES "
   ]
  },
  {
   "cell_type": "code",
   "execution_count": null,
   "id": "10a0d2b9-5e6d-4c2b-992c-c78b95302fc5",
   "metadata": {},
   "outputs": [],
   "source": [
    "import pandas as pd\n",
    "from kafka import KafkaConsumer \n",
    "from time import sleep\n",
    "from json import dumps,loads\n",
    "import json\n",
    "import os\n",
    "from azure.storage.blob import BlobServiceClient"
   ]
  },
  {
   "cell_type": "markdown",
   "id": "fce17ca4-ccb4-42f4-9dc5-0423251f50b4",
   "metadata": {},
   "source": [
    "## CONFIGURE CONSUMER"
   ]
  },
  {
   "cell_type": "code",
   "execution_count": null,
   "id": "d478debc-79f5-417c-8fae-3b4ffe579dc1",
   "metadata": {},
   "outputs": [],
   "source": [
    "consumer = KafkaConsumer(\n",
    "    'demo_test',\n",
    "     bootstrap_servers=['yourip:9092'], #add your IP here\n",
    "    value_deserializer=lambda x: loads(x.decode('utf-8')))\n"
   ]
  },
  {
   "cell_type": "markdown",
   "id": "8fbfcb2a-71cb-4fc4-a130-785fa270e15a",
   "metadata": {},
   "source": [
    "## CONFIGURE AZURE BLOB STORAGE OR DATALAKE"
   ]
  },
  {
   "cell_type": "code",
   "execution_count": null,
   "id": "3cf60ecc-3916-4338-b2cd-5ab9c242cced",
   "metadata": {},
   "outputs": [],
   "source": [
    "conn_string='yourconnectionstring'\n",
    "\n",
    "blob_service_client=BlobServiceClient.from_connection_string(conn_string)\n"
   ]
  },
  {
   "cell_type": "markdown",
   "id": "2d251f2e-938b-42e9-a61e-9d3512aa2e35",
   "metadata": {},
   "source": [
    "## CREATE CONTAINER "
   ]
  },
  {
   "cell_type": "code",
   "execution_count": null,
   "id": "b06cfb3c-f5dd-4b67-92b2-3f82c30ecea4",
   "metadata": {},
   "outputs": [],
   "source": [
    "container='container_name'\n",
    "container_client=blob_service_client.create_container(container)"
   ]
  },
  {
   "cell_type": "markdown",
   "id": "a8e391e0-2bd0-4462-84a5-0c4aad71742a",
   "metadata": {},
   "source": [
    "## CONSUMING THE DATA FROM TOPIC AND SINKING IT TO DATALAKE"
   ]
  },
  {
   "cell_type": "code",
   "execution_count": null,
   "id": "495aa522-2150-4e6b-bcac-b6f0e53dc3a5",
   "metadata": {},
   "outputs": [],
   "source": [
    "for count, i in enumerate(consumer):\n",
    "    # Create a blob client for the new blob\n",
    "    blob_client = blob_service_client.get_blob_client(container=\"container_name\", blob=\"filename_{}.json\".format(count))\n",
    "    \n",
    "    # Serialize the data to JSON and upload it to the blob\n",
    "    data = json.dumps(i.value)\n",
    "    blob_client.upload_blob(data, overwrite=True)"
   ]
  },
  {
   "cell_type": "markdown",
   "id": "ddd0de1c-be0b-47dd-a800-23cfa916313a",
   "metadata": {},
   "source": [
    "## VIEW THE DATA CONSUMPTION AT REALTIME"
   ]
  },
  {
   "cell_type": "code",
   "execution_count": null,
   "id": "46ee7e52-f52b-45dc-96b8-750e989e4a6e",
   "metadata": {},
   "outputs": [],
   "source": [
    "for c in consumer:\n",
    "    print(c.value)"
   ]
  }
 ],
 "metadata": {
  "kernelspec": {
   "display_name": "Python 3 (ipykernel)",
   "language": "python",
   "name": "python3"
  },
  "language_info": {
   "codemirror_mode": {
    "name": "ipython",
    "version": 3
   },
   "file_extension": ".py",
   "mimetype": "text/x-python",
   "name": "python",
   "nbconvert_exporter": "python",
   "pygments_lexer": "ipython3",
   "version": "3.11.8"
  }
 },
 "nbformat": 4,
 "nbformat_minor": 5
}
