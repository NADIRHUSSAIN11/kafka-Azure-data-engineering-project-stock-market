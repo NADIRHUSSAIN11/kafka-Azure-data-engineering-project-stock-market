{
 "cells": [
  {
   "cell_type": "markdown",
   "id": "35cd914a-84da-49c8-82f2-e351ac55effa",
   "metadata": {},
   "source": [
    "## INSTALL REQUIRED LIBRARIES"
   ]
  },
  {
   "cell_type": "code",
   "execution_count": null,
   "id": "1f120035-529b-43e2-89c4-b685687468b3",
   "metadata": {},
   "outputs": [],
   "source": [
    "!pip install azure-storage-blob azure-identity\n",
    "!pip install kafka-python"
   ]
  },
  {
   "cell_type": "markdown",
   "id": "f00403cd-0fc7-4699-a4ff-fd8e94c6736f",
   "metadata": {},
   "source": [
    "## IMPORTING LIBRARIES "
   ]
  },
  {
   "cell_type": "code",
   "execution_count": null,
   "id": "d8654ab4-a6ac-4fcf-9990-176fffd88beb",
   "metadata": {},
   "outputs": [],
   "source": [
    "import pandas as pd\n",
    "from kafka import KafkaConsumer \n",
    "from time import sleep\n",
    "from json import dumps\n",
    "import json\n",
    "import os\n",
    "from azure.storage.blob import BlobServiceClient"
   ]
  },
  {
   "cell_type": "markdown",
   "id": "2fe9e267-f59e-4bc9-8185-63ad5045cc51",
   "metadata": {},
   "source": [
    "## CONFIGURE PRODUCER "
   ]
  },
  {
   "cell_type": "code",
   "execution_count": null,
   "id": "aa764a46-6be9-42b1-9fa6-acaf8c689587",
   "metadata": {},
   "outputs": [],
   "source": [
    "producer = KafkaProducer(bootstrap_servers=['your_ip:9092'], #change ip here\n",
    "                         value_serializer=lambda x: \n",
    "                         dumps(x).encode('utf-8'))"
   ]
  },
  {
   "cell_type": "markdown",
   "id": "32bd95af-aeab-458b-8326-3974bc7dea18",
   "metadata": {},
   "source": [
    "## SENDING TEST DATA TO THE TOPIC"
   ]
  },
  {
   "cell_type": "code",
   "execution_count": null,
   "id": "508037c1-4a5f-4d24-9a8b-76bc8fa96fea",
   "metadata": {},
   "outputs": [],
   "source": [
    "producer.send('topicname',value={'hello':'nadir'})"
   ]
  },
  {
   "cell_type": "markdown",
   "id": "590aafe7-a8f9-4993-af08-81e8a2f09f45",
   "metadata": {},
   "source": [
    "## READING STOCK DATA FROM LOCAL"
   ]
  },
  {
   "cell_type": "code",
   "execution_count": null,
   "id": "3721194a-b7d1-4754-9218-a05b3d78af71",
   "metadata": {},
   "outputs": [],
   "source": [
    "df=pd.read_csv('indexProcessed.csv')"
   ]
  },
  {
   "cell_type": "markdown",
   "id": "3d585783-c734-4a0f-aeeb-63f909a216fd",
   "metadata": {},
   "source": [
    "## GENERATING DUMMY DATA FROM THE FILE AND SENDUNG IT TO TOPIC"
   ]
  },
  {
   "cell_type": "code",
   "execution_count": null,
   "id": "c81a40eb-84e7-4097-8065-2c174cca9ef6",
   "metadata": {},
   "outputs": [],
   "source": [
    "while True:\n",
    "    stock=df.sample(1).to_dict(orient='records')[0]\n",
    "    producer.send('topicname',value=stock)\n",
    "    sleep(1)\n",
    "    "
   ]
  },
  {
   "cell_type": "markdown",
   "id": "124ff50d-2ee5-4ae9-82b5-006498b91b53",
   "metadata": {},
   "source": [
    "## FLUSHING THE PRODUCER "
   ]
  },
  {
   "cell_type": "code",
   "execution_count": null,
   "id": "0f7ae713-247a-45ea-addc-8126c1e71b31",
   "metadata": {},
   "outputs": [],
   "source": [
    "producer.flush"
   ]
  }
 ],
 "metadata": {
  "kernelspec": {
   "display_name": "Python 3 (ipykernel)",
   "language": "python",
   "name": "python3"
  },
  "language_info": {
   "codemirror_mode": {
    "name": "ipython",
    "version": 3
   },
   "file_extension": ".py",
   "mimetype": "text/x-python",
   "name": "python",
   "nbconvert_exporter": "python",
   "pygments_lexer": "ipython3",
   "version": "3.11.8"
  }
 },
 "nbformat": 4,
 "nbformat_minor": 5
}
